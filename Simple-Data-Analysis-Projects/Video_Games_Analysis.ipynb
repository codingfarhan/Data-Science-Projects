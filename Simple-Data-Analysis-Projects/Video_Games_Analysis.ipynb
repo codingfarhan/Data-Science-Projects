{
 "cells": [
  {
   "cell_type": "markdown",
   "metadata": {},
   "source": [
    "#                               FOOTBALL PLAYER ANALYSIS"
   ]
  },
  {
   "cell_type": "markdown",
   "metadata": {},
   "source": []
  },
  {
   "cell_type": "markdown",
   "metadata": {},
   "source": []
  },
  {
   "cell_type": "markdown",
   "metadata": {},
   "source": []
  },
  {
   "cell_type": "code",
   "execution_count": null,
   "metadata": {},
   "outputs": [],
   "source": [
    "from bs4 import BeautifulSoup\n",
    "\n",
    "import requests\n",
    "\n",
    "import pandas as pd \n",
    "\n",
    "import matplotlib.pyplot as plt \n",
    "\n",
    "import numpy as np \n",
    "\n",
    "\n",
    "url = 'https://www.soccerbase.com/players/player.sd?player_id=50603'\n",
    "\n",
    "r = requests.get(url)\n",
    "\n",
    "html_content = r.content\n",
    "\n",
    "soup = BeautifulSoup(html_content, 'html.parser')\n",
    "\n",
    "containers = soup.find(\"table\", \"soccerGrid listWithCards\").contents[1].find_all(\"tr\", class_=\"match\")\n",
    "\n",
    "# print(containers)\n",
    "\n",
    "\n",
    "l1 = []\n",
    "l2 = []\n",
    "\n",
    "\n",
    "for container in containers:\n",
    "\t\n",
    "\tgoal_scored = container.find_all(\"td\")[6].div.span\n",
    "\t\n",
    "\tif goal_scored == None:\n",
    "\t\t\n",
    "\t\tgoal_scored = 0\n",
    "\t\n",
    "\telse:\n",
    "\t\n",
    "\t\tgoal_scored = goal_scored.string\n",
    "\t\n",
    "\tdate = container.find(\"td\", \"dateTime\").span.a[\"title\"]\n",
    "\n",
    "\tl1.append(goal_scored)\n",
    "\tl2.append(date) \n",
    "\n",
    "\tprint(date, goal_scored)\n",
    "\n",
    "\n",
    "dict = {'Date':l2, 'Goals':l1}\n",
    "\n",
    "df = pd.DataFrame(dict)\n",
    "\n",
    "df.to_csv('Lewandowski_goals.csv', index=False)\n",
    "\n",
    "\n",
    "df = pd.read_csv('lewandowski_goals.csv')\n",
    "\n",
    "x = list(df.Date)\n",
    "y = list(df.Goals)\n",
    "\n",
    "\n",
    "z = np.var(y)\n",
    "\n",
    "plt.figure(figsize=(5,5), dpi=200)\n",
    "\n",
    "plt.plot(x,y)\n",
    "\n",
    "plt.title(\"Robert Lewandowski's performance in 2019/2020 \")\n",
    "\n",
    "plt.xlabel('Date of matches', size=10)\n",
    "plt.ylabel('Goals scored', size=10)\n",
    "\n",
    "plt.xticks(rotation=45, size=3)\n",
    "plt.yticks([0,1,2,3,4,5])\n",
    "plt.show()\n"
   ]
  },
  {
   "cell_type": "code",
   "execution_count": null,
   "metadata": {},
   "outputs": [],
   "source": []
  },
  {
   "cell_type": "code",
   "execution_count": null,
   "metadata": {},
   "outputs": [],
   "source": []
  },
  {
   "cell_type": "code",
   "execution_count": null,
   "metadata": {},
   "outputs": [],
   "source": []
  },
  {
   "cell_type": "code",
   "execution_count": null,
   "metadata": {},
   "outputs": [],
   "source": []
  },
  {
   "cell_type": "code",
   "execution_count": null,
   "metadata": {},
   "outputs": [],
   "source": []
  },
  {
   "cell_type": "code",
   "execution_count": null,
   "metadata": {},
   "outputs": [],
   "source": []
  }
 ],
 "metadata": {
  "kernelspec": {
   "display_name": "Python 3",
   "language": "python",
   "name": "python3"
  },
  "language_info": {
   "codemirror_mode": {
    "name": "ipython",
    "version": 3
   },
   "file_extension": ".py",
   "mimetype": "text/x-python",
   "name": "python",
   "nbconvert_exporter": "python",
   "pygments_lexer": "ipython3",
   "version": "3.7.6"
  }
 },
 "nbformat": 4,
 "nbformat_minor": 4
}
