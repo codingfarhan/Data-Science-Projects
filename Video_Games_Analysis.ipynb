{
 "cells": [
  {
   "cell_type": "markdown",
   "metadata": {},
   "source": [
    "#                                                \t\tVIDEO GAMES SALES ANALYSIS\n",
    "\n",
    "In this project, we will look at Video Games Sales data (1980 to 2016) from across the globe about various major games belonging to a range of Genres (Action, Adventure, etc) and gaming platforms (PS3, PC, etc). \n",
    "\n",
    "Here, we will use python libraaries, namely pandas and matplotlib for cleaning the data and visualizing it in a way that is easy to understand.\n",
    "\n",
    "We answer the questions like:\n",
    "* What was the most popular video game?\n",
    "* Which year saw the most video games sales?\n",
    "* Which Country/Continent saw the best video game sales during this peiriod?\n",
    "* Which Video Game Genre flourished the most in the video game market?\n",
    "\n",
    "Here is the link to the kaggle dataset which this project is based on. Feel free to check it out!"
   ]
  },
  {
   "cell_type": "code",
   "execution_count": null,
   "metadata": {},
   "outputs": [],
   "source": [
    "data source:\t\t\t https://www.kaggle.com/gregorut/videogamesales"
   ]
  },
  {
   "cell_type": "markdown",
   "metadata": {},
   "source": [
    "Alright! Lets now get started with the code. \n",
    "We will be using two python modules; pandas for  data pre-processing and matplotlib for visualization:"
   ]
  },
  {
   "cell_type": "code",
   "execution_count": null,
   "metadata": {},
   "outputs": [],
   "source": [
    "import pandas as pd \n",
    "\n",
    "import matplotlib.pyplot as plt "
   ]
  },
  {
   "cell_type": "markdown",
   "metadata": {},
   "source": [
    "Great! Lets now read our data from the file and organise it in a way so that we can use it to answer our questions.\n",
    "\n",
    "[Note: I have saved the data from kaggle (refer to the link above) as 'vgsales.csv'. You can save it with any name you prefer.]\n"
   ]
  },
  {
   "cell_type": "code",
   "execution_count": null,
   "metadata": {},
   "outputs": [],
   "source": [
    "#Reading data from file\n",
    "\n",
    "df = pd.read_csv('vgsales.csv')\n",
    "\n",
    "#Cleaning and Re-organizing the data\n",
    "\n",
    "nan_value = float(\"NaN\")\n",
    "df.replace(\"\", nan_value, inplace=True)\n",
    "df.dropna(subset = ['Year'], inplace=True)"
   ]
  },
  {
   "cell_type": "markdown",
   "metadata": {},
   "source": [
    "A quick look at our data:"
   ]
  },
  {
   "cell_type": "code",
   "execution_count": 9,
   "metadata": {},
   "outputs": [
    {
     "data": {
      "text/html": [
       "<div>\n",
       "<style scoped>\n",
       "    .dataframe tbody tr th:only-of-type {\n",
       "        vertical-align: middle;\n",
       "    }\n",
       "\n",
       "    .dataframe tbody tr th {\n",
       "        vertical-align: top;\n",
       "    }\n",
       "\n",
       "    .dataframe thead th {\n",
       "        text-align: right;\n",
       "    }\n",
       "</style>\n",
       "<table border=\"1\" class=\"dataframe\">\n",
       "  <thead>\n",
       "    <tr style=\"text-align: right;\">\n",
       "      <th></th>\n",
       "      <th>Rank</th>\n",
       "      <th>Name</th>\n",
       "      <th>Platform</th>\n",
       "      <th>Year</th>\n",
       "      <th>Genre</th>\n",
       "      <th>Publisher</th>\n",
       "      <th>NA_Sales</th>\n",
       "      <th>EU_Sales</th>\n",
       "      <th>JP_Sales</th>\n",
       "      <th>Other_Sales</th>\n",
       "      <th>Global_Sales</th>\n",
       "      <th>count</th>\n",
       "    </tr>\n",
       "  </thead>\n",
       "  <tbody>\n",
       "    <tr>\n",
       "      <th>0</th>\n",
       "      <td>1</td>\n",
       "      <td>Wii Sports</td>\n",
       "      <td>Wii</td>\n",
       "      <td>2006.0</td>\n",
       "      <td>Sports</td>\n",
       "      <td>Nintendo</td>\n",
       "      <td>41.49</td>\n",
       "      <td>29.02</td>\n",
       "      <td>3.77</td>\n",
       "      <td>8.46</td>\n",
       "      <td>82.74</td>\n",
       "      <td>1</td>\n",
       "    </tr>\n",
       "    <tr>\n",
       "      <th>1</th>\n",
       "      <td>2</td>\n",
       "      <td>Super Mario Bros.</td>\n",
       "      <td>NES</td>\n",
       "      <td>1985.0</td>\n",
       "      <td>Platform</td>\n",
       "      <td>Nintendo</td>\n",
       "      <td>29.08</td>\n",
       "      <td>3.58</td>\n",
       "      <td>6.81</td>\n",
       "      <td>0.77</td>\n",
       "      <td>40.24</td>\n",
       "      <td>1</td>\n",
       "    </tr>\n",
       "    <tr>\n",
       "      <th>2</th>\n",
       "      <td>3</td>\n",
       "      <td>Mario Kart Wii</td>\n",
       "      <td>Wii</td>\n",
       "      <td>2008.0</td>\n",
       "      <td>Racing</td>\n",
       "      <td>Nintendo</td>\n",
       "      <td>15.85</td>\n",
       "      <td>12.88</td>\n",
       "      <td>3.79</td>\n",
       "      <td>3.31</td>\n",
       "      <td>35.82</td>\n",
       "      <td>1</td>\n",
       "    </tr>\n",
       "    <tr>\n",
       "      <th>3</th>\n",
       "      <td>4</td>\n",
       "      <td>Wii Sports Resort</td>\n",
       "      <td>Wii</td>\n",
       "      <td>2009.0</td>\n",
       "      <td>Sports</td>\n",
       "      <td>Nintendo</td>\n",
       "      <td>15.75</td>\n",
       "      <td>11.01</td>\n",
       "      <td>3.28</td>\n",
       "      <td>2.96</td>\n",
       "      <td>33.00</td>\n",
       "      <td>1</td>\n",
       "    </tr>\n",
       "    <tr>\n",
       "      <th>4</th>\n",
       "      <td>5</td>\n",
       "      <td>Pokemon Red/Pokemon Blue</td>\n",
       "      <td>GB</td>\n",
       "      <td>1996.0</td>\n",
       "      <td>Role-Playing</td>\n",
       "      <td>Nintendo</td>\n",
       "      <td>11.27</td>\n",
       "      <td>8.89</td>\n",
       "      <td>10.22</td>\n",
       "      <td>1.00</td>\n",
       "      <td>31.37</td>\n",
       "      <td>1</td>\n",
       "    </tr>\n",
       "    <tr>\n",
       "      <th>5</th>\n",
       "      <td>6</td>\n",
       "      <td>Tetris</td>\n",
       "      <td>GB</td>\n",
       "      <td>1989.0</td>\n",
       "      <td>Puzzle</td>\n",
       "      <td>Nintendo</td>\n",
       "      <td>23.20</td>\n",
       "      <td>2.26</td>\n",
       "      <td>4.22</td>\n",
       "      <td>0.58</td>\n",
       "      <td>30.26</td>\n",
       "      <td>1</td>\n",
       "    </tr>\n",
       "    <tr>\n",
       "      <th>6</th>\n",
       "      <td>7</td>\n",
       "      <td>New Super Mario Bros.</td>\n",
       "      <td>DS</td>\n",
       "      <td>2006.0</td>\n",
       "      <td>Platform</td>\n",
       "      <td>Nintendo</td>\n",
       "      <td>11.38</td>\n",
       "      <td>9.23</td>\n",
       "      <td>6.50</td>\n",
       "      <td>2.90</td>\n",
       "      <td>30.01</td>\n",
       "      <td>1</td>\n",
       "    </tr>\n",
       "    <tr>\n",
       "      <th>7</th>\n",
       "      <td>8</td>\n",
       "      <td>Wii Play</td>\n",
       "      <td>Wii</td>\n",
       "      <td>2006.0</td>\n",
       "      <td>Misc</td>\n",
       "      <td>Nintendo</td>\n",
       "      <td>14.03</td>\n",
       "      <td>9.20</td>\n",
       "      <td>2.93</td>\n",
       "      <td>2.85</td>\n",
       "      <td>29.02</td>\n",
       "      <td>1</td>\n",
       "    </tr>\n",
       "    <tr>\n",
       "      <th>8</th>\n",
       "      <td>9</td>\n",
       "      <td>New Super Mario Bros. Wii</td>\n",
       "      <td>Wii</td>\n",
       "      <td>2009.0</td>\n",
       "      <td>Platform</td>\n",
       "      <td>Nintendo</td>\n",
       "      <td>14.59</td>\n",
       "      <td>7.06</td>\n",
       "      <td>4.70</td>\n",
       "      <td>2.26</td>\n",
       "      <td>28.62</td>\n",
       "      <td>1</td>\n",
       "    </tr>\n",
       "  </tbody>\n",
       "</table>\n",
       "</div>"
      ],
      "text/plain": [
       "   Rank                       Name Platform    Year         Genre Publisher  \\\n",
       "0     1                 Wii Sports      Wii  2006.0        Sports  Nintendo   \n",
       "1     2          Super Mario Bros.      NES  1985.0      Platform  Nintendo   \n",
       "2     3             Mario Kart Wii      Wii  2008.0        Racing  Nintendo   \n",
       "3     4          Wii Sports Resort      Wii  2009.0        Sports  Nintendo   \n",
       "4     5   Pokemon Red/Pokemon Blue       GB  1996.0  Role-Playing  Nintendo   \n",
       "5     6                     Tetris       GB  1989.0        Puzzle  Nintendo   \n",
       "6     7      New Super Mario Bros.       DS  2006.0      Platform  Nintendo   \n",
       "7     8                   Wii Play      Wii  2006.0          Misc  Nintendo   \n",
       "8     9  New Super Mario Bros. Wii      Wii  2009.0      Platform  Nintendo   \n",
       "\n",
       "   NA_Sales  EU_Sales  JP_Sales  Other_Sales  Global_Sales  count  \n",
       "0     41.49     29.02      3.77         8.46         82.74      1  \n",
       "1     29.08      3.58      6.81         0.77         40.24      1  \n",
       "2     15.85     12.88      3.79         3.31         35.82      1  \n",
       "3     15.75     11.01      3.28         2.96         33.00      1  \n",
       "4     11.27      8.89     10.22         1.00         31.37      1  \n",
       "5     23.20      2.26      4.22         0.58         30.26      1  \n",
       "6     11.38      9.23      6.50         2.90         30.01      1  \n",
       "7     14.03      9.20      2.93         2.85         29.02      1  \n",
       "8     14.59      7.06      4.70         2.26         28.62      1  "
      ]
     },
     "execution_count": 9,
     "metadata": {},
     "output_type": "execute_result"
    }
   ],
   "source": [
    "df.head(9)"
   ]
  },
  {
   "cell_type": "markdown",
   "execution_count": null,
   "metadata": {},
   "outputs": [],
   "source": [
    "Now, its time to answer some questions:"
   ]
  },
  {
   "cell_type": "markdown",
   "metadata": {},
   "source": [
    "\n",
    "\n",
    "# QUESTION: WHICH YEAR SAW THE MOST  SALES FOR VIDEO GAMES?\n",
    "\n"
   ]
  },
  {
   "cell_type": "code",
   "execution_count": 24,
   "metadata": {},
   "outputs": [
    {
     "data": {
      "image/png": "[encoded data removed]",
      "text/plain": [
       "<Figure size 432x288 with 1 Axes>"
      ]
     },
     "metadata": {
      "needs_background": "light"
     },
     "output_type": "display_data"
    }
   ],
   "source": [
    "df2 = pd.DataFrame()\n",
    "\n",
    "df2 = df\n",
    "\n",
    "df2 = df2.groupby('Year').sum()\n",
    "\n",
    "#Visualizing with 'matplotlib' module\n",
    "\n",
    "years = [year for year, df in  df2.groupby('Year')]\n",
    "\n",
    "plt.plot(years, df2['Global_Sales'], 'ro--')\n",
    "\n",
    "plt.xlabel('Years', size=15)\n",
    "plt.ylabel('Global Sales', size=15)\n",
    "\n",
    "plt.show()\n"
   ]
  },
  {
   "cell_type": "markdown",
   "metadata": {},
   "source": [
    "We can see the sales peak in 2008. A rather unique time to peak if we think about it. It is the year when the US was hit with a recession. It is also the year when the all-time favourite video game 'Grand Theft Auto IV' was released. \n",
    "After 2008, we see a downward trend in sales, until it eventually plateaus after 2016."
   ]
  },
  {
   "cell_type": "markdown",
   "metadata": {},
   "source": [
    "\n",
    "\n",
    "# QUESTION: WHAT WAS THE MOST POPULAR VIDEO GAME?\n",
    "\n"
   ]
  },
  {
   "cell_type": "code",
   "execution_count": 21,
   "metadata": {},
   "outputs": [
    {
     "data": {
      "image/png": "[encoded data removed]",
      "text/plain": [
       "<Figure size 432x288 with 1 Axes>"
      ]
     },
     "metadata": {
      "needs_background": "light"
     },
     "output_type": "display_data"
    }
   ],
   "source": [
    "df3 = pd.DataFrame()\n",
    "\n",
    "df3 = df\n",
    "\n",
    "df3 = df3.groupby('Name').sum().sort_values('Global_Sales', ascending=False).head(6)\n",
    "\n",
    "names =  [name for name, df in df3.groupby('Name')]\n",
    "\n",
    "bar_list = plt.bar(names, df3['Global_Sales'])\n",
    "\n",
    "plt.xlabel('Video Games', size=15)\n",
    "plt.ylabel('Global Sales', size=15)\n",
    "\n",
    "plt.xticks(names, size=5)\n",
    "\n",
    "colors = ['red', 'green', 'yellow', 'brown', 'blue', 'purple']\n",
    "\n",
    "for num, item in enumerate(colors, start=0):\n",
    "    \n",
    "    bar_list[num].set_color(item)\n",
    "    \n",
    "    if num==5:\n",
    "        break\n",
    "\n",
    "plt.show()"
   ]
  },
  {
   "cell_type": "markdown",
   "metadata": {},
   "source": [
    "This shouldn't come as a surprise to the gamers, or to those who know someone who plays A LOT of GTA 5. It is regarded as one of the most popular and 'addicting' free-roam games ever made. It's closest competitor, Mario Kart Wii, which had been around since 2008 was still beat by GTA 5 which was released in the 2013."
   ]
  },
  {
   "cell_type": "markdown",
   "metadata": {},
   "source": [
    "\n",
    "\n",
    "# QUESTION: WHICH CONTINENT/COUNTRY SAW THE HIGHEST SALES ON THE 'PS2' PLATFORM?\n",
    "\n"
   ]
  },
  {
   "cell_type": "code",
   "execution_count": 7,
   "metadata": {},
   "outputs": [
    {
     "data": {
      "image/png": "[encoded data removed]",
      "text/plain": [
       "<Figure size 432x288 with 1 Axes>"
      ]
     },
     "metadata": {
      "needs_background": "light"
     },
     "output_type": "display_data"
    }
   ],
   "source": [
    "df5 = pd.DataFrame()\n",
    "\n",
    "df5 = df\n",
    "df5 = df5.loc[(df5['Platform'] == 'PS2')].groupby('Platform').sum()\n",
    "\n",
    "#print(df5)\n",
    "#So from the output we get above, we can plot the values as follows:\n",
    "\n",
    "x = ['North America', 'Europe', 'Japan']\n",
    "y = [572.92, 332.63, 137.54]\n",
    "\n",
    "plt.bar(x, y)\n",
    "\n",
    "plt.xlabel('Continents/Countries', size=15)\n",
    "plt.ylabel('Sales', size=15)\n",
    "\n",
    "plt.xticks(x)\n",
    "\n",
    "plt.show()"
   ]
  },
  {
   "cell_type": "markdown",
   "metadata": {},
   "source": [
    "North America beats every nation on this comparison. As of today, the video game industry in the USA is worth more than Hollywood. It is also the home of some of the most popular video game franchise like Call of Duty, Grand Theft Auto, Red Dead Redemption, etc."
   ]
  },
  {
   "cell_type": "markdown",
   "metadata": {},
   "source": [
    "\n",
    "\n",
    "# QUESTION: WHICH GENRE DID MOST OF THE GAMES BELONG TO?\n",
    "\n"
   ]
  },
  {
   "cell_type": "code",
   "execution_count": 22,
   "metadata": {
    "scrolled": false
   },
   "outputs": [
    {
     "data": {
      "image/png": "[encoded data removed]",
      "text/plain": [
       "<Figure size 432x288 with 1 Axes>"
      ]
     },
     "metadata": {
      "needs_background": "light"
     },
     "output_type": "display_data"
    }
   ],
   "source": [
    "df6 = pd.DataFrame()\n",
    "\n",
    "df6 = df\n",
    "\n",
    "df6['count'] = 1\n",
    "\n",
    "df6 = df6.groupby('Genre').sum()\n",
    "\n",
    "genres = [genre for genre, df in df6.groupby('Genre')]\n",
    "\n",
    "bars = plt.bar(genres, df6['count'])\n",
    "\n",
    "plt.xlabel('Genres', size=15)\n",
    "plt.ylabel('Total Games Developed', size=15)\n",
    "\n",
    "plt.xticks(genres, size=6)\n",
    "\n",
    "colors = ['red', 'green', 'yellow', 'brown', 'blue', 'purple', 'black', 'pink', 'orange', 'grey', 'indigo', 'violet']\n",
    "\n",
    "for num, item in enumerate(colors):\n",
    "    \n",
    "    bars[num].set_color(item)\n",
    "\n",
    "\n",
    "plt.show()"
   ]
  },
  {
   "cell_type": "markdown",
   "metadata": {},
   "source": [
    "The Action and Sports Genre are the winneers here. \n",
    "Since video games are mostly popular among the young audience, most of the game developers stick to the action genre. Sports games too have a good name, which is again associated with the likes and preferences of the young audience."
   ]
  },
  {
   "cell_type": "markdown",
   "metadata": {},
   "source": [
    "\n",
    "\n",
    "# QUESTION: WHICH VIDEO GAME PLATFORM WAS THE MOST POPULAR PLATFORM DURING THE PERIOD?\n",
    "\n"
   ]
  },
  {
   "cell_type": "code",
   "execution_count": 70,
   "metadata": {
    "scrolled": false
   },
   "outputs": [
    {
     "data": {
      "image/png": "[encoded data removed]",
      "text/plain": [
       "<Figure size 864x432 with 1 Axes>"
      ]
     },
     "metadata": {},
     "output_type": "display_data"
    }
   ],
   "source": [
    "import pandas as pd\n",
    "import matplotlib.pyplot as plt\n",
    "\n",
    "#Reading data from file\n",
    "\n",
    "df = pd.read_csv('vgsales.csv')\n",
    "\n",
    "#Cleaning and Re-organizing the data\n",
    "\n",
    "nan_value = float(\"NaN\")\n",
    "df.replace(\"\", nan_value, inplace=True)\n",
    "df.dropna(subset = ['Year'], inplace=True)\n",
    "\n",
    "df7 = pd.DataFrame()\n",
    "\n",
    "df7 = df\n",
    "\n",
    "df7 = df7.groupby('Platform').sum().sort_values('Global_Sales', ascending=False).head(10)\n",
    "\n",
    "platforms = ['Play Station 2', 'X Box 360', 'Play Station 3', 'Wii', 'Nintendo DS', 'Play Station 1', 'Nintendo Game Boy Advance', 'PSP', 'Play Station 4', 'PC']\n",
    "\n",
    "values = df7['Global_Sales']\n",
    "\n",
    "plt.figure(figsize=(12,6))\n",
    "plt.pie(values, labels=platforms, startangle=90)\n",
    "\n",
    "plt.show()"
   ]
  },
  {
   "cell_type": "markdown",
   "metadata": {},
   "source": [
    "Looking at the share of global video game sales released on different gaming consoles, one will notice this was a fairly competitive market for makers of gaming systems. Games released on Nintendo and Sony's Play Station consoles captured most of the sales, and Microsoft's X-Box 360 was the second most popular gaming console after the Play Station 2."
   ]
  }
 ],
 "metadata": {
  "kernelspec": {
   "display_name": "Python 3",
   "language": "python",
   "name": "python3"
  },
  "language_info": {
   "codemirror_mode": {
    "name": "ipython",
    "version": 3
   },
   "file_extension": ".py",
   "mimetype": "text/x-python",
   "name": "python",
   "nbconvert_exporter": "python",
   "pygments_lexer": "ipython3",
   "version": "3.7.6"
  }
 },
 "nbformat": 4,
 "nbformat_minor": 4
}
