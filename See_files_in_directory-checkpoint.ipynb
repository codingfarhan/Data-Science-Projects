{
 "cells": [
  {
   "cell_type": "code",
   "execution_count": 1,
   "metadata": {},
   "outputs": [
    {
     "name": "stdout",
     "output_type": "stream",
     "text": [
      ".bash_history\n",
      ".conda\n",
      ".git-for-windows-updater\n",
      ".gitconfig\n",
      ".ipynb_checkpoints\n",
      ".ipython\n",
      ".jupyter\n",
      ".matplotlib\n",
      ".openshot_qt\n",
      ".Origin\n",
      ".python_history\n",
      ".QtWebEngineProcess\n",
      "3D Objects\n",
      "anaconda3\n",
      "ansel\n",
      "AppData\n",
      "Application Data\n",
      "Contacts\n",
      "Cookies\n",
      "Downloads\n",
      "Favorites\n",
      "IntelGraphicsProfiles\n",
      "Links\n",
      "Local Settings\n",
      "maaz12123_assets\n",
      "MicrosoftEdgeBackups\n",
      "Music\n",
      "My Documents\n",
      "NetHood\n",
      "new_sales_file.csv\n",
      "NTUSER.DAT\n",
      "ntuser.dat.LOG1\n",
      "ntuser.dat.LOG2\n",
      "NTUSER.DAT{9a748807-228f-11ea-ae80-86ae4be8bbc8}.TM.blf\n",
      "NTUSER.DAT{9a748807-228f-11ea-ae80-86ae4be8bbc8}.TMContainer00000000000000000001.regtrans-ms\n",
      "NTUSER.DAT{9a748807-228f-11ea-ae80-86ae4be8bbc8}.TMContainer00000000000000000002.regtrans-ms\n",
      "ntuser.ini\n",
      "OneDrive\n",
      "Pictures\n",
      "PrintHood\n",
      "Recent\n",
      "Sales_Data\n",
      "Saved Games\n",
      "Searches\n",
      "See_files_in_directory.ipynb\n",
      "SendTo\n",
      "source\n",
      "Start Menu\n",
      "Templates\n",
      "test project_assets\n",
      "Videos\n"
     ]
    }
   ],
   "source": [
    "import os\n",
    "\n",
    "cwd = os.getcwd()  # Get the current working directory (cwd)\n",
    "files = os.listdir(cwd)  # Get all the files in that directory\n",
    "# print(\"Files in %r: %s\" % (cwd, files))\n",
    "\n",
    "for item in files:\n",
    "#     if(item=='pokemon_data.csv'):\n",
    "#         print('found')\n",
    "#         break\n",
    "#     else:\n",
    "#         flag = 0\n",
    "\n",
    "# if(flag == 0):\n",
    "#     print('file not found')\n",
    "    print(item)\n",
    "\n",
    "\n",
    "\n",
    "#only the csv files in your directory can be accessed"
   ]
  },
  {
   "cell_type": "code",
   "execution_count": null,
   "metadata": {},
   "outputs": [],
   "source": []
  }
 ],
 "metadata": {
  "kernelspec": {
   "display_name": "Python 3",
   "language": "python",
   "name": "python3"
  },
  "language_info": {
   "codemirror_mode": {
    "name": "ipython",
    "version": 3
   },
   "file_extension": ".py",
   "mimetype": "text/x-python",
   "name": "python",
   "nbconvert_exporter": "python",
   "pygments_lexer": "ipython3",
   "version": "3.7.6"
  }
 },
 "nbformat": 4,
 "nbformat_minor": 4
}
